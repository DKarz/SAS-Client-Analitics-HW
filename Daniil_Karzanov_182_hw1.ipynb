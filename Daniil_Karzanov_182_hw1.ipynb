version https://git-lfs.github.com/spec/v1
oid sha256:8d04bea9c4923d6371fb7fac99d3579cbc7328a35417ca1a0865738ba5a9f039
size 101368859
